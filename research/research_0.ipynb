{
 "cells": [
  {
   "cell_type": "code",
   "execution_count": 2,
   "metadata": {},
   "outputs": [],
   "source": [
    "from selenium import webdriver\n",
    "from selenium.webdriver.common.by import By\n",
    "import os\n",
    "from pathlib import Path\n",
    "from urllib.parse import urlparse\n"
   ]
  },
  {
   "cell_type": "code",
   "execution_count": 25,
   "metadata": {},
   "outputs": [],
   "source": [
    "def scrape_text_from_website(url):\n",
    "    # Start a new instance of the Chrome driver\n",
    "    driver = webdriver.Chrome()\n",
    "\n",
    "    # Open the provided URL\n",
    "    driver.get(url)\n",
    "\n",
    "    # Extract text from the website\n",
    "    text = driver.find_element(By.TAG_NAME, 'body').text\n",
    "\n",
    "    # Close the browser window\n",
    "    driver.quit()\n",
    "\n",
    "    return text"
   ]
  },
  {
   "cell_type": "code",
   "execution_count": 4,
   "metadata": {},
   "outputs": [],
   "source": [
    "def write_text_to_file(text, file_name):\n",
    "    with open(file_name, 'a', encoding='utf-8') as file:\n",
    "        file.write(text)"
   ]
  },
  {
   "cell_type": "code",
   "execution_count": 5,
   "metadata": {},
   "outputs": [],
   "source": [
    "def get_all_links(base_url):\n",
    "    driver = webdriver.Chrome()\n",
    "    driver.get(base_url)\n",
    "    links = driver.find_elements(By.XPATH, '//a[@href]')\n",
    "    all_links = [link.get_attribute('href') for link in links]\n",
    "    driver.quit()\n",
    "    return all_links"
   ]
  },
  {
   "cell_type": "code",
   "execution_count": 6,
   "metadata": {},
   "outputs": [
    {
     "data": {
      "text/plain": [
       "WindowsPath('c:/Users/Hadiana.s/Documents/Learning/crawler/research/data/www.rudaw.net.txt')"
      ]
     },
     "execution_count": 6,
     "metadata": {},
     "output_type": "execute_result"
    }
   ],
   "source": [
    "url = ''\n",
    "data_path = Path(f'{os.getcwd()}\\data\\{urlparse(url).netloc}.txt')\n",
    "data_path"
   ]
  },
  {
   "cell_type": "code",
   "execution_count": 22,
   "metadata": {},
   "outputs": [],
   "source": [
    "def crawl_website(start_url, domain, data_path, max_depth=3):\n",
    "    visited_urls = set()\n",
    "\n",
    "    def recursive_crawl(url, depth):\n",
    "        if depth > max_depth or url in visited_urls or not url.startswith(domain) or url.__contains__('#'):\n",
    "            return\n",
    "\n",
    "        print(f\"Crawling: {url}\")\n",
    "\n",
    "        visited_urls.add(url)\n",
    "        links = get_all_links(url)\n",
    "\n",
    "        for link in links:\n",
    "            recursive_crawl(link, depth + 1)\n",
    "\n",
    "        # Scrape text only for the specified domain\n",
    "        print('before scrape')\n",
    "        if url.startswith(domain):\n",
    "            print(f'the url is..... {url}')\n",
    "            text = scrape_text_from_website(url)\n",
    "            print(f'\\n\\nText scraped:\\n{text}')\n",
    "            # path to save the data\n",
    "            data_path = Path(f'{os.getcwd()}\\data\\{urlparse(url).netloc}.txt')\n",
    "            \n",
    "            write_text_to_file(text, data_path)\n",
    "\n",
    "    recursive_crawl(start_url, 1)"
   ]
  },
  {
   "cell_type": "code",
   "execution_count": 23,
   "metadata": {},
   "outputs": [
    {
     "name": "stdout",
     "output_type": "stream",
     "text": [
      "pass\n"
     ]
    }
   ],
   "source": [
    "if not ''.__contains__('#'):\n",
    "    print('pass')"
   ]
  },
  {
   "cell_type": "code",
   "execution_count": 26,
   "metadata": {},
   "outputs": [
    {
     "name": "stdout",
     "output_type": "stream",
     "text": [
      "Crawling: https://www.rudaw.net/sorani\n",
      "Crawling: https://www.rudaw.net/sorani/kurdistan\n"
     ]
    },
    {
     "ename": "NoSuchWindowException",
     "evalue": "Message: no such window: target window already closed\nfrom unknown error: web view not found\n  (Session info: chrome=119.0.6045.200)\nStacktrace:\n\tGetHandleVerifier [0x00007FF7874282B2+55298]\n\t(No symbol) [0x00007FF787395E02]\n\t(No symbol) [0x00007FF7872505AB]\n\t(No symbol) [0x00007FF787230038]\n\t(No symbol) [0x00007FF7872B6BC7]\n\t(No symbol) [0x00007FF7872CA15F]\n\t(No symbol) [0x00007FF7872B1E83]\n\t(No symbol) [0x00007FF78728670A]\n\t(No symbol) [0x00007FF787287964]\n\tGetHandleVerifier [0x00007FF7877A0AAB+3694587]\n\tGetHandleVerifier [0x00007FF7877F728E+4048862]\n\tGetHandleVerifier [0x00007FF7877EF173+4015811]\n\tGetHandleVerifier [0x00007FF7874C47D6+695590]\n\t(No symbol) [0x00007FF7873A0CE8]\n\t(No symbol) [0x00007FF78739CF34]\n\t(No symbol) [0x00007FF78739D062]\n\t(No symbol) [0x00007FF78738D3A3]\n\tBaseThreadInitThunk [0x00007FFB7AC2257D+29]\n\tRtlUserThreadStart [0x00007FFB7CA4AA68+40]\n",
     "output_type": "error",
     "traceback": [
      "\u001b[1;31m---------------------------------------------------------------------------\u001b[0m",
      "\u001b[1;31mNoSuchWindowException\u001b[0m                     Traceback (most recent call last)",
      "\u001b[1;32mc:\\Users\\Hadiana.s\\Documents\\Learning\\crawler\\research\\research_0.ipynb Cell 8\u001b[0m line \u001b[0;36m5\n\u001b[0;32m      <a href='vscode-notebook-cell:/c%3A/Users/Hadiana.s/Documents/Learning/crawler/research/research_0.ipynb#W2sZmlsZQ%3D%3D?line=1'>2</a>\u001b[0m domain \u001b[39m=\u001b[39m \u001b[39m'\u001b[39m\u001b[39mhttps://www.rudaw.net/sorani\u001b[39m\u001b[39m'\u001b[39m\n\u001b[0;32m      <a href='vscode-notebook-cell:/c%3A/Users/Hadiana.s/Documents/Learning/crawler/research/research_0.ipynb#W2sZmlsZQ%3D%3D?line=2'>3</a>\u001b[0m max_depth \u001b[39m=\u001b[39m \u001b[39m30\u001b[39m\n\u001b[1;32m----> <a href='vscode-notebook-cell:/c%3A/Users/Hadiana.s/Documents/Learning/crawler/research/research_0.ipynb#W2sZmlsZQ%3D%3D?line=4'>5</a>\u001b[0m crawl_website(start_url, domain, max_depth) \n",
      "\u001b[1;32mc:\\Users\\Hadiana.s\\Documents\\Learning\\crawler\\research\\research_0.ipynb Cell 8\u001b[0m line \u001b[0;36m2\n\u001b[0;32m     <a href='vscode-notebook-cell:/c%3A/Users/Hadiana.s/Documents/Learning/crawler/research/research_0.ipynb#W2sZmlsZQ%3D%3D?line=22'>23</a>\u001b[0m         data_path \u001b[39m=\u001b[39m Path(\u001b[39mf\u001b[39m\u001b[39m'\u001b[39m\u001b[39m{\u001b[39;00mos\u001b[39m.\u001b[39mgetcwd()\u001b[39m}\u001b[39;00m\u001b[39m\\\u001b[39m\u001b[39mdata\u001b[39m\u001b[39m\\\u001b[39m\u001b[39m{\u001b[39;00murlparse(url)\u001b[39m.\u001b[39mnetloc\u001b[39m}\u001b[39;00m\u001b[39m.txt\u001b[39m\u001b[39m'\u001b[39m)\n\u001b[0;32m     <a href='vscode-notebook-cell:/c%3A/Users/Hadiana.s/Documents/Learning/crawler/research/research_0.ipynb#W2sZmlsZQ%3D%3D?line=24'>25</a>\u001b[0m         write_text_to_file(text, data_path)\n\u001b[1;32m---> <a href='vscode-notebook-cell:/c%3A/Users/Hadiana.s/Documents/Learning/crawler/research/research_0.ipynb#W2sZmlsZQ%3D%3D?line=26'>27</a>\u001b[0m recursive_crawl(start_url, \u001b[39m1\u001b[39;49m)\n",
      "\u001b[1;32mc:\\Users\\Hadiana.s\\Documents\\Learning\\crawler\\research\\research_0.ipynb Cell 8\u001b[0m line \u001b[0;36m1\n\u001b[0;32m     <a href='vscode-notebook-cell:/c%3A/Users/Hadiana.s/Documents/Learning/crawler/research/research_0.ipynb#W2sZmlsZQ%3D%3D?line=10'>11</a>\u001b[0m links \u001b[39m=\u001b[39m get_all_links(url)\n\u001b[0;32m     <a href='vscode-notebook-cell:/c%3A/Users/Hadiana.s/Documents/Learning/crawler/research/research_0.ipynb#W2sZmlsZQ%3D%3D?line=12'>13</a>\u001b[0m \u001b[39mfor\u001b[39;00m link \u001b[39min\u001b[39;00m links:\n\u001b[1;32m---> <a href='vscode-notebook-cell:/c%3A/Users/Hadiana.s/Documents/Learning/crawler/research/research_0.ipynb#W2sZmlsZQ%3D%3D?line=13'>14</a>\u001b[0m     recursive_crawl(link, depth \u001b[39m+\u001b[39;49m \u001b[39m1\u001b[39;49m)\n\u001b[0;32m     <a href='vscode-notebook-cell:/c%3A/Users/Hadiana.s/Documents/Learning/crawler/research/research_0.ipynb#W2sZmlsZQ%3D%3D?line=15'>16</a>\u001b[0m \u001b[39m# Scrape text only for the specified domain\u001b[39;00m\n\u001b[0;32m     <a href='vscode-notebook-cell:/c%3A/Users/Hadiana.s/Documents/Learning/crawler/research/research_0.ipynb#W2sZmlsZQ%3D%3D?line=16'>17</a>\u001b[0m \u001b[39mprint\u001b[39m(\u001b[39m'\u001b[39m\u001b[39mbefore scrape\u001b[39m\u001b[39m'\u001b[39m)\n",
      "\u001b[1;32mc:\\Users\\Hadiana.s\\Documents\\Learning\\crawler\\research\\research_0.ipynb Cell 8\u001b[0m line \u001b[0;36m1\n\u001b[0;32m      <a href='vscode-notebook-cell:/c%3A/Users/Hadiana.s/Documents/Learning/crawler/research/research_0.ipynb#W2sZmlsZQ%3D%3D?line=7'>8</a>\u001b[0m \u001b[39mprint\u001b[39m(\u001b[39mf\u001b[39m\u001b[39m\"\u001b[39m\u001b[39mCrawling: \u001b[39m\u001b[39m{\u001b[39;00murl\u001b[39m}\u001b[39;00m\u001b[39m\"\u001b[39m)\n\u001b[0;32m     <a href='vscode-notebook-cell:/c%3A/Users/Hadiana.s/Documents/Learning/crawler/research/research_0.ipynb#W2sZmlsZQ%3D%3D?line=9'>10</a>\u001b[0m visited_urls\u001b[39m.\u001b[39madd(url)\n\u001b[1;32m---> <a href='vscode-notebook-cell:/c%3A/Users/Hadiana.s/Documents/Learning/crawler/research/research_0.ipynb#W2sZmlsZQ%3D%3D?line=10'>11</a>\u001b[0m links \u001b[39m=\u001b[39m get_all_links(url)\n\u001b[0;32m     <a href='vscode-notebook-cell:/c%3A/Users/Hadiana.s/Documents/Learning/crawler/research/research_0.ipynb#W2sZmlsZQ%3D%3D?line=12'>13</a>\u001b[0m \u001b[39mfor\u001b[39;00m link \u001b[39min\u001b[39;00m links:\n\u001b[0;32m     <a href='vscode-notebook-cell:/c%3A/Users/Hadiana.s/Documents/Learning/crawler/research/research_0.ipynb#W2sZmlsZQ%3D%3D?line=13'>14</a>\u001b[0m     recursive_crawl(link, depth \u001b[39m+\u001b[39m \u001b[39m1\u001b[39m)\n",
      "\u001b[1;32mc:\\Users\\Hadiana.s\\Documents\\Learning\\crawler\\research\\research_0.ipynb Cell 8\u001b[0m line \u001b[0;36m4\n\u001b[0;32m      <a href='vscode-notebook-cell:/c%3A/Users/Hadiana.s/Documents/Learning/crawler/research/research_0.ipynb#W2sZmlsZQ%3D%3D?line=1'>2</a>\u001b[0m driver \u001b[39m=\u001b[39m webdriver\u001b[39m.\u001b[39mChrome()\n\u001b[0;32m      <a href='vscode-notebook-cell:/c%3A/Users/Hadiana.s/Documents/Learning/crawler/research/research_0.ipynb#W2sZmlsZQ%3D%3D?line=2'>3</a>\u001b[0m driver\u001b[39m.\u001b[39mget(base_url)\n\u001b[1;32m----> <a href='vscode-notebook-cell:/c%3A/Users/Hadiana.s/Documents/Learning/crawler/research/research_0.ipynb#W2sZmlsZQ%3D%3D?line=3'>4</a>\u001b[0m links \u001b[39m=\u001b[39m driver\u001b[39m.\u001b[39;49mfind_elements(By\u001b[39m.\u001b[39;49mXPATH, \u001b[39m'\u001b[39;49m\u001b[39m//a[@href]\u001b[39;49m\u001b[39m'\u001b[39;49m)\n\u001b[0;32m      <a href='vscode-notebook-cell:/c%3A/Users/Hadiana.s/Documents/Learning/crawler/research/research_0.ipynb#W2sZmlsZQ%3D%3D?line=4'>5</a>\u001b[0m all_links \u001b[39m=\u001b[39m [link\u001b[39m.\u001b[39mget_attribute(\u001b[39m'\u001b[39m\u001b[39mhref\u001b[39m\u001b[39m'\u001b[39m) \u001b[39mfor\u001b[39;00m link \u001b[39min\u001b[39;00m links]\n\u001b[0;32m      <a href='vscode-notebook-cell:/c%3A/Users/Hadiana.s/Documents/Learning/crawler/research/research_0.ipynb#W2sZmlsZQ%3D%3D?line=5'>6</a>\u001b[0m driver\u001b[39m.\u001b[39mquit()\n",
      "File \u001b[1;32mc:\\Users\\Hadiana.s\\AppData\\Local\\anaconda3\\envs\\venv\\lib\\site-packages\\selenium\\webdriver\\remote\\webdriver.py:771\u001b[0m, in \u001b[0;36mWebDriver.find_elements\u001b[1;34m(self, by, value)\u001b[0m\n\u001b[0;32m    767\u001b[0m     value \u001b[39m=\u001b[39m \u001b[39mf\u001b[39m\u001b[39m'\u001b[39m\u001b[39m[name=\u001b[39m\u001b[39m\"\u001b[39m\u001b[39m{\u001b[39;00mvalue\u001b[39m}\u001b[39;00m\u001b[39m\"\u001b[39m\u001b[39m]\u001b[39m\u001b[39m'\u001b[39m\n\u001b[0;32m    769\u001b[0m \u001b[39m# Return empty list if driver returns null\u001b[39;00m\n\u001b[0;32m    770\u001b[0m \u001b[39m# See https://github.com/SeleniumHQ/selenium/issues/4555\u001b[39;00m\n\u001b[1;32m--> 771\u001b[0m \u001b[39mreturn\u001b[39;00m \u001b[39mself\u001b[39;49m\u001b[39m.\u001b[39;49mexecute(Command\u001b[39m.\u001b[39;49mFIND_ELEMENTS, {\u001b[39m\"\u001b[39;49m\u001b[39musing\u001b[39;49m\u001b[39m\"\u001b[39;49m: by, \u001b[39m\"\u001b[39;49m\u001b[39mvalue\u001b[39;49m\u001b[39m\"\u001b[39;49m: value})[\u001b[39m\"\u001b[39m\u001b[39mvalue\u001b[39m\u001b[39m\"\u001b[39m] \u001b[39mor\u001b[39;00m []\n",
      "File \u001b[1;32mc:\\Users\\Hadiana.s\\AppData\\Local\\anaconda3\\envs\\venv\\lib\\site-packages\\selenium\\webdriver\\remote\\webdriver.py:347\u001b[0m, in \u001b[0;36mWebDriver.execute\u001b[1;34m(self, driver_command, params)\u001b[0m\n\u001b[0;32m    345\u001b[0m response \u001b[39m=\u001b[39m \u001b[39mself\u001b[39m\u001b[39m.\u001b[39mcommand_executor\u001b[39m.\u001b[39mexecute(driver_command, params)\n\u001b[0;32m    346\u001b[0m \u001b[39mif\u001b[39;00m response:\n\u001b[1;32m--> 347\u001b[0m     \u001b[39mself\u001b[39;49m\u001b[39m.\u001b[39;49merror_handler\u001b[39m.\u001b[39;49mcheck_response(response)\n\u001b[0;32m    348\u001b[0m     response[\u001b[39m\"\u001b[39m\u001b[39mvalue\u001b[39m\u001b[39m\"\u001b[39m] \u001b[39m=\u001b[39m \u001b[39mself\u001b[39m\u001b[39m.\u001b[39m_unwrap_value(response\u001b[39m.\u001b[39mget(\u001b[39m\"\u001b[39m\u001b[39mvalue\u001b[39m\u001b[39m\"\u001b[39m, \u001b[39mNone\u001b[39;00m))\n\u001b[0;32m    349\u001b[0m     \u001b[39mreturn\u001b[39;00m response\n",
      "File \u001b[1;32mc:\\Users\\Hadiana.s\\AppData\\Local\\anaconda3\\envs\\venv\\lib\\site-packages\\selenium\\webdriver\\remote\\errorhandler.py:229\u001b[0m, in \u001b[0;36mErrorHandler.check_response\u001b[1;34m(self, response)\u001b[0m\n\u001b[0;32m    227\u001b[0m         alert_text \u001b[39m=\u001b[39m value[\u001b[39m\"\u001b[39m\u001b[39malert\u001b[39m\u001b[39m\"\u001b[39m]\u001b[39m.\u001b[39mget(\u001b[39m\"\u001b[39m\u001b[39mtext\u001b[39m\u001b[39m\"\u001b[39m)\n\u001b[0;32m    228\u001b[0m     \u001b[39mraise\u001b[39;00m exception_class(message, screen, stacktrace, alert_text)  \u001b[39m# type: ignore[call-arg]  # mypy is not smart enough here\u001b[39;00m\n\u001b[1;32m--> 229\u001b[0m \u001b[39mraise\u001b[39;00m exception_class(message, screen, stacktrace)\n",
      "\u001b[1;31mNoSuchWindowException\u001b[0m: Message: no such window: target window already closed\nfrom unknown error: web view not found\n  (Session info: chrome=119.0.6045.200)\nStacktrace:\n\tGetHandleVerifier [0x00007FF7874282B2+55298]\n\t(No symbol) [0x00007FF787395E02]\n\t(No symbol) [0x00007FF7872505AB]\n\t(No symbol) [0x00007FF787230038]\n\t(No symbol) [0x00007FF7872B6BC7]\n\t(No symbol) [0x00007FF7872CA15F]\n\t(No symbol) [0x00007FF7872B1E83]\n\t(No symbol) [0x00007FF78728670A]\n\t(No symbol) [0x00007FF787287964]\n\tGetHandleVerifier [0x00007FF7877A0AAB+3694587]\n\tGetHandleVerifier [0x00007FF7877F728E+4048862]\n\tGetHandleVerifier [0x00007FF7877EF173+4015811]\n\tGetHandleVerifier [0x00007FF7874C47D6+695590]\n\t(No symbol) [0x00007FF7873A0CE8]\n\t(No symbol) [0x00007FF78739CF34]\n\t(No symbol) [0x00007FF78739D062]\n\t(No symbol) [0x00007FF78738D3A3]\n\tBaseThreadInitThunk [0x00007FFB7AC2257D+29]\n\tRtlUserThreadStart [0x00007FFB7CA4AA68+40]\n"
     ]
    }
   ],
   "source": [
    "start_url = ''\n",
    "domain = ''\n",
    "max_depth = 30\n",
    "\n",
    "crawl_website(start_url, domain, max_depth) "
   ]
  },
  {
   "cell_type": "code",
   "execution_count": null,
   "metadata": {},
   "outputs": [],
   "source": []
  }
 ],
 "metadata": {
  "kernelspec": {
   "display_name": "venv",
   "language": "python",
   "name": "python3"
  },
  "language_info": {
   "codemirror_mode": {
    "name": "ipython",
    "version": 3
   },
   "file_extension": ".py",
   "mimetype": "text/x-python",
   "name": "python",
   "nbconvert_exporter": "python",
   "pygments_lexer": "ipython3",
   "version": "3.12.0"
  }
 },
 "nbformat": 4,
 "nbformat_minor": 2
}
